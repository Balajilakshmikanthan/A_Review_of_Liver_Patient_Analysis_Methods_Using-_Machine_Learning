{
  "cells": [
    {
      "cell_type": "markdown",
      "metadata": {
        "id": "iEEYxRS6ATQQ"
      },
      "source": [
        "# 👉🏻 👉🏻 👉🏻 👉🏻 LIVER PATIENT ANALYSIS & PREDICTION 👈🏻 👈🏻 👈🏻 👈🏻 "
      ]
    },
    {
      "cell_type": "markdown",
      "metadata": {
        "id": "w5IveLn3ATQa"
      },
      "source": [
        "1) Data Analysis: \n",
        " This is in general looking at the data to figure out whats going on. Inspect the data: Check whether there is any missing data, irrelevant data and do a cleanup.\n",
        "\n",
        "2) Data Visualization:\n",
        "\n",
        "3) Feature selection.\n",
        "\n",
        "4) Search for any trends, relations & correlations.\n",
        "\n",
        "5) Draw an inference and predict whether the patient can be identified to be having liver disease or not"
      ]
    },
    {
      "cell_type": "code",
      "execution_count": null,
      "metadata": {
        "id": "taZmEkkSATQc"
      },
      "outputs": [],
      "source": [
        "#Import all required libraries for reading data, analysing and visualizing data\n",
        "\n",
        "import pandas as pd\n",
        "import numpy as np\n",
        "import matplotlib.pyplot as plt\n",
        "import seaborn as sns\n",
        "%matplotlib inline\n",
        "from sklearn.preprocessing import LabelEncoder"
      ]
    },
    {
      "cell_type": "markdown",
      "metadata": {
        "id": "_XtKK7WGATQf"
      },
      "source": [
        "# Data Analysis"
      ]
    },
    {
      "cell_type": "code",
      "execution_count": null,
      "metadata": {
        "colab": {
          "base_uri": "https://localhost:8080/",
          "height": 374
        },
        "id": "Oi6Dq4snATQg",
        "outputId": "59015d42-cf5d-48be-a0ab-7db89211aadf"
      },
      "outputs": [
        {
          "output_type": "error",
          "ename": "ModuleNotFoundError",
          "evalue": "ignored",
          "traceback": [
            "\u001b[0;31m---------------------------------------------------------------------------\u001b[0m",
            "\u001b[0;31mModuleNotFoundError\u001b[0m                       Traceback (most recent call last)",
            "\u001b[0;32m<ipython-input-4-950cb0f9e02f>\u001b[0m in \u001b[0;36m<cell line: 5>\u001b[0;34m()\u001b[0m\n\u001b[1;32m      3\u001b[0m \u001b[0;32mimport\u001b[0m \u001b[0mtypes\u001b[0m\u001b[0;34m\u001b[0m\u001b[0;34m\u001b[0m\u001b[0m\n\u001b[1;32m      4\u001b[0m \u001b[0;32mimport\u001b[0m \u001b[0mpandas\u001b[0m \u001b[0;32mas\u001b[0m \u001b[0mpd\u001b[0m\u001b[0;34m\u001b[0m\u001b[0;34m\u001b[0m\u001b[0m\n\u001b[0;32m----> 5\u001b[0;31m \u001b[0;32mfrom\u001b[0m \u001b[0mbotocore\u001b[0m\u001b[0;34m.\u001b[0m\u001b[0mclient\u001b[0m \u001b[0;32mimport\u001b[0m \u001b[0mConfig\u001b[0m\u001b[0;34m\u001b[0m\u001b[0;34m\u001b[0m\u001b[0m\n\u001b[0m\u001b[1;32m      6\u001b[0m \u001b[0;32mimport\u001b[0m \u001b[0mibm_boto3\u001b[0m\u001b[0;34m\u001b[0m\u001b[0;34m\u001b[0m\u001b[0m\n\u001b[1;32m      7\u001b[0m \u001b[0;34m\u001b[0m\u001b[0m\n",
            "\u001b[0;31mModuleNotFoundError\u001b[0m: No module named 'botocore'",
            "",
            "\u001b[0;31m---------------------------------------------------------------------------\u001b[0;32m\nNOTE: If your import is failing due to a missing package, you can\nmanually install dependencies using either !pip or !apt.\n\nTo view examples of installing some common dependencies, click the\n\"Open Examples\" button below.\n\u001b[0;31m---------------------------------------------------------------------------\u001b[0m\n"
          ],
          "errorDetails": {
            "actions": [
              {
                "action": "open_url",
                "actionText": "Open Examples",
                "url": "/notebooks/snippets/importing_libraries.ipynb"
              }
            ]
          }
        }
      ],
      "source": [
        "#Read the training & test data\n",
        "# liver_df = pd.read_csv('liver_patient.csv')\n",
        "import types\n",
        "import pandas as pd\n",
        "from botocore.client import Config\n",
        "import ibm_boto3\n",
        "\n",
        "def __iter__(self): return 0\n",
        "\n",
        "# @hidden_cell\n",
        "# The following code accesses a file in your IBM Cloud Object Storage. It includes your credentials.\n",
        "# You might want to remove those credentials before you share your notebook.\n",
        "client_4d3b180310594496b884c11ba3138863 = ibm_boto3.client(service_name='s3',\n",
        "    ibm_api_key_id='dukeFNtwWPtt4DcrXh6HLxDSUIEYxGUMG-xsnXmY5EDW',\n",
        "    ibm_auth_endpoint=\"https://iam.eu-gb.bluemix.net/oidc/token\",\n",
        "    config=Config(signature_version='oauth'),\n",
        "    endpoint_url='https://s3.eu-geo.objectstorage.service.networklayer.com')\n",
        "\n",
        "body = client_4d3b180310594496b884c11ba3138863.get_object(Bucket='socialnetworkads-donotdelete-pr-hqu2bvcls9ycig',Key='liver_patient.csv')['Body']\n",
        "# add missing __iter__ method, so pandas accepts body as file-like object\n",
        "if not hasattr(body, \"__iter__\"): body.__iter__ = types.MethodType( __iter__, body )\n",
        "\n",
        "liver_df= pd.read_csv(body)\n",
        "liver_df.head()"
      ]
    },
    {
      "cell_type": "code",
      "execution_count": null,
      "metadata": {
        "colab": {
          "base_uri": "https://localhost:8080/",
          "height": 201
        },
        "id": "QOx3LE1BATQj",
        "outputId": "baa0ebf2-100f-418e-e467-754a18cd822f"
      },
      "outputs": [
        {
          "output_type": "error",
          "ename": "NameError",
          "evalue": "ignored",
          "traceback": [
            "\u001b[0;31m---------------------------------------------------------------------------\u001b[0m",
            "\u001b[0;31mNameError\u001b[0m                                 Traceback (most recent call last)",
            "\u001b[0;32m<ipython-input-5-06fb4b6489c8>\u001b[0m in \u001b[0;36m<cell line: 3>\u001b[0;34m()\u001b[0m\n\u001b[1;32m      1\u001b[0m \u001b[0;31m#Top 5 rows of the dataset\u001b[0m\u001b[0;34m\u001b[0m\u001b[0;34m\u001b[0m\u001b[0m\n\u001b[1;32m      2\u001b[0m \u001b[0;34m\u001b[0m\u001b[0m\n\u001b[0;32m----> 3\u001b[0;31m \u001b[0mliver_df\u001b[0m\u001b[0;34m.\u001b[0m\u001b[0mhead\u001b[0m\u001b[0;34m(\u001b[0m\u001b[0;34m)\u001b[0m\u001b[0;34m\u001b[0m\u001b[0;34m\u001b[0m\u001b[0m\n\u001b[0m",
            "\u001b[0;31mNameError\u001b[0m: name 'liver_df' is not defined"
          ]
        }
      ],
      "source": [
        "#Top 5 rows of the dataset\n",
        "\n",
        "liver_df.head()"
      ]
    },
    {
      "cell_type": "code",
      "execution_count": null,
      "metadata": {
        "id": "ZbCCGam0ATQk"
      },
      "outputs": [],
      "source": [
        "# To get a concise summary of the dataframe\n",
        "\n",
        "liver_df.info()"
      ]
    },
    {
      "cell_type": "markdown",
      "metadata": {
        "id": "q4BD4tGEATQm"
      },
      "source": [
        "Here are the observations from the dataset:\n",
        "\n",
        "- Only gender is non-numeric veriable. All others are numeric.\n",
        "\n",
        "- There are 10 features and 1 output - dataset. Value 1 indicates that the patient has liver disease and 0 indicates the patient does not have liver disease."
      ]
    },
    {
      "cell_type": "code",
      "execution_count": null,
      "metadata": {
        "id": "SoaPPCOqATQo"
      },
      "outputs": [],
      "source": [
        "# Statistical information about NUMERICAL columns in the dataset\n",
        "\n",
        "liver_df.describe(include='all')"
      ]
    },
    {
      "cell_type": "markdown",
      "metadata": {
        "id": "BkMHj721ATQr"
      },
      "source": [
        "- We can see that there are missing values for Albumin_and_Globulin_Ratio as only 579 entries have valid values indicating 4 missing values.\n",
        "- Gender has only 2 values - Male/Female"
      ]
    },
    {
      "cell_type": "code",
      "execution_count": null,
      "metadata": {
        "id": "6wwLxOjQATQu"
      },
      "outputs": [],
      "source": [
        "# Features of the dataset (Labels)\n",
        "\n",
        "liver_df.columns"
      ]
    },
    {
      "cell_type": "code",
      "execution_count": null,
      "metadata": {
        "id": "rROpiUEaATQw"
      },
      "outputs": [],
      "source": [
        "# Check for any null values\n",
        "\n",
        "liver_df.isnull().sum()"
      ]
    },
    {
      "cell_type": "markdown",
      "metadata": {
        "id": "YaRPllXtATQ0"
      },
      "source": [
        "- The only data that is null is the Albumin_and_Globulin_Ratio - Only 4 rows are null. Lets see whether this is an important feature"
      ]
    },
    {
      "cell_type": "markdown",
      "metadata": {
        "id": "LISH_5OGATQ2"
      },
      "source": [
        "# Data Visualization"
      ]
    },
    {
      "cell_type": "code",
      "execution_count": null,
      "metadata": {
        "id": "TCL-Sl6DATQ4"
      },
      "outputs": [],
      "source": [
        "# Frequency of patients diagnosed and not diagnoised with liver disease\n",
        "\n",
        "sns.countplot(data=liver_df, x = 'Dataset', label='Count')\n",
        "\n",
        "LD, NLD = liver_df['Dataset'].value_counts()\n",
        "print('Number of patients diagnosed with liver disease: ',LD)\n",
        "print('Number of patients not diagnosed with liver disease: ',NLD)"
      ]
    },
    {
      "cell_type": "code",
      "execution_count": null,
      "metadata": {
        "id": "_Js02VNgATQ7"
      },
      "outputs": [],
      "source": [
        "# Frequency of patients based on their gender\n",
        "\n",
        "sns.countplot(data=liver_df, x = 'Gender', label='Count')\n",
        "\n",
        "M, F = liver_df['Gender'].value_counts()\n",
        "print('Number of patients that are male: ',M)\n",
        "print('Number of patients that are female: ',F)"
      ]
    },
    {
      "cell_type": "code",
      "execution_count": null,
      "metadata": {
        "id": "L2CWx-8uATRB"
      },
      "outputs": [],
      "source": [
        "sns.factorplot(x=\"Age\", y=\"Gender\", hue=\"Dataset\", data=liver_df);"
      ]
    },
    {
      "cell_type": "markdown",
      "metadata": {
        "id": "YkxvD61iATRC"
      },
      "source": [
        "- Age seems to be a factor for liver disease for both male and female genders"
      ]
    },
    {
      "cell_type": "code",
      "execution_count": null,
      "metadata": {
        "id": "hsmirB39ATRD"
      },
      "outputs": [],
      "source": [
        "liver_df[['Gender', 'Dataset','Age']].groupby(['Dataset','Gender'], as_index=False).count().sort_values(by='Dataset', ascending=False)"
      ]
    },
    {
      "cell_type": "code",
      "execution_count": null,
      "metadata": {
        "id": "tWqnLddhATRE"
      },
      "outputs": [],
      "source": [
        "liver_df[['Gender', 'Dataset','Age']].groupby(['Dataset','Gender'], as_index=False).mean().sort_values(by='Dataset', ascending=False)"
      ]
    },
    {
      "cell_type": "code",
      "execution_count": null,
      "metadata": {
        "id": "kQ5SvpyxATRE"
      },
      "outputs": [],
      "source": [
        "g = sns.FacetGrid(liver_df, col=\"Dataset\", row=\"Gender\", margin_titles=True)\n",
        "g.map(plt.hist, \"Age\", color=\"red\")\n",
        "plt.subplots_adjust(top=0.9)\n",
        "g.fig.suptitle('Disease by Gender and Age');"
      ]
    },
    {
      "cell_type": "code",
      "execution_count": null,
      "metadata": {
        "id": "CZkTzZ3DATRG"
      },
      "outputs": [],
      "source": [
        "g = sns.FacetGrid(liver_df, col=\"Gender\", row=\"Dataset\", margin_titles=True)\n",
        "g.map(plt.scatter,\"Direct_Bilirubin\", \"Total_Bilirubin\", edgecolor=\"w\")\n",
        "plt.subplots_adjust(top=0.9)"
      ]
    },
    {
      "cell_type": "markdown",
      "metadata": {
        "id": "FpWrokhEATRH"
      },
      "source": [
        "- There seems to be direct relationship between Total_Bilirubin and Direct_Bilirubin. We have the possibility of removing one of this feature."
      ]
    },
    {
      "cell_type": "code",
      "execution_count": null,
      "metadata": {
        "id": "PfuYZvUxATRI"
      },
      "outputs": [],
      "source": [
        "sns.jointplot(\"Total_Bilirubin\", \"Direct_Bilirubin\", data=liver_df, kind=\"reg\")"
      ]
    },
    {
      "cell_type": "code",
      "execution_count": null,
      "metadata": {
        "id": "25fx7gj5ATRI"
      },
      "outputs": [],
      "source": [
        "g = sns.FacetGrid(liver_df, col=\"Gender\", row=\"Dataset\", margin_titles=True)\n",
        "g.map(plt.scatter,\"Aspartate_Aminotransferase\", \"Alamine_Aminotransferase\",  edgecolor=\"w\")\n",
        "plt.subplots_adjust(top=0.9)"
      ]
    },
    {
      "cell_type": "markdown",
      "metadata": {
        "id": "XuHmbDWdATRK"
      },
      "source": [
        "- There is linear relationship between Aspartate_Aminotransferase and Alamine_Aminotransferase and the gender. We have the possibility of removing one of this feature."
      ]
    },
    {
      "cell_type": "code",
      "execution_count": null,
      "metadata": {
        "id": "5Oq_DcBvATRL"
      },
      "outputs": [],
      "source": [
        "sns.jointplot(\"Aspartate_Aminotransferase\", \"Alamine_Aminotransferase\", data=liver_df, kind=\"reg\")"
      ]
    },
    {
      "cell_type": "code",
      "execution_count": null,
      "metadata": {
        "id": "cJWrfTjjATRM"
      },
      "outputs": [],
      "source": [
        "g = sns.FacetGrid(liver_df, col=\"Gender\", row=\"Dataset\", margin_titles=True)\n",
        "g.map(plt.scatter,\"Alkaline_Phosphotase\", \"Alamine_Aminotransferase\",  edgecolor=\"w\")\n",
        "plt.subplots_adjust(top=0.9)"
      ]
    },
    {
      "cell_type": "code",
      "execution_count": null,
      "metadata": {
        "id": "0vrxac2FATRN"
      },
      "outputs": [],
      "source": [
        "sns.jointplot(\"Alkaline_Phosphotase\", \"Alamine_Aminotransferase\", data=liver_df, kind=\"reg\")"
      ]
    },
    {
      "cell_type": "markdown",
      "metadata": {
        "id": "obpuJloIATRO"
      },
      "source": [
        "- No linear correlation between Alkaline_Phosphotase and Alamine_Aminotransferase"
      ]
    },
    {
      "cell_type": "code",
      "execution_count": null,
      "metadata": {
        "id": "u5rYadF3ATRO"
      },
      "outputs": [],
      "source": [
        "g = sns.FacetGrid(liver_df, col=\"Gender\", row=\"Dataset\", margin_titles=True)\n",
        "g.map(plt.scatter,\"Total_Protiens\", \"Albumin\",  edgecolor=\"w\")\n",
        "plt.subplots_adjust(top=0.9)"
      ]
    },
    {
      "cell_type": "markdown",
      "metadata": {
        "id": "U7_BBv2NATRP"
      },
      "source": [
        "- There is linear relationship between Total_Protiens and Albumin and the gender. We have the possibility of removing one of this feature."
      ]
    },
    {
      "cell_type": "code",
      "execution_count": null,
      "metadata": {
        "id": "LWe5U4yIATRQ"
      },
      "outputs": [],
      "source": [
        "sns.jointplot(\"Total_Protiens\", \"Albumin\", data=liver_df, kind=\"reg\")"
      ]
    },
    {
      "cell_type": "code",
      "execution_count": null,
      "metadata": {
        "id": "D90YZaaOATRR"
      },
      "outputs": [],
      "source": [
        "g = sns.FacetGrid(liver_df, col=\"Gender\", row=\"Dataset\", margin_titles=True)\n",
        "g.map(plt.scatter,\"Albumin\", \"Albumin_and_Globulin_Ratio\",  edgecolor=\"w\")\n",
        "plt.subplots_adjust(top=0.9)"
      ]
    },
    {
      "cell_type": "markdown",
      "metadata": {
        "id": "Yqa6WK4gATRR"
      },
      "source": [
        "- There is linear relationship between Albumin_and_Globulin_Ratio and Albumin. We have the possibility of removing one of this feature."
      ]
    },
    {
      "cell_type": "code",
      "execution_count": null,
      "metadata": {
        "id": "WiBnojDkATRS"
      },
      "outputs": [],
      "source": [
        "sns.jointplot(\"Albumin_and_Globulin_Ratio\", \"Albumin\", data=liver_df, kind=\"reg\")"
      ]
    },
    {
      "cell_type": "code",
      "execution_count": null,
      "metadata": {
        "id": "tE0lXBW2ATRT"
      },
      "outputs": [],
      "source": [
        "g = sns.FacetGrid(liver_df, col=\"Gender\", row=\"Dataset\", margin_titles=True)\n",
        "g.map(plt.scatter,\"Albumin_and_Globulin_Ratio\", \"Total_Protiens\",  edgecolor=\"w\")\n",
        "plt.subplots_adjust(top=0.9)"
      ]
    },
    {
      "cell_type": "markdown",
      "metadata": {
        "id": "QnhRAYcEATRV"
      },
      "source": [
        "### Observation:\n",
        "\n",
        "From the above jointplots and scatterplots, we find direct relationship between the following features:\n",
        "* Direct_Bilirubin & Total_Bilirubin\n",
        "* Aspartate_Aminotransferase & Alamine_Aminotransferase\n",
        "* Total_Protiens & Albumin\n",
        "* Albumin_and_Globulin_Ratio & Albumin\n",
        "\n",
        "Hence, we can very well find that we can omit one of the features. I'm going to keep the follwing features:\n",
        "* Total_Bilirubin\n",
        "* Alamine_Aminotransferase\n",
        "* Total_Protiens\n",
        "* Albumin_and_Globulin_Ratio\n",
        "* Albumin"
      ]
    },
    {
      "cell_type": "code",
      "execution_count": null,
      "metadata": {
        "id": "SFyc_BzMATRW"
      },
      "outputs": [],
      "source": [
        "liver_df.head(3)"
      ]
    },
    {
      "cell_type": "markdown",
      "metadata": {
        "id": "G-qfVlM_ATRX"
      },
      "source": [
        "- Convert categorical variable \"Gender\" to indicator variables"
      ]
    },
    {
      "cell_type": "code",
      "execution_count": null,
      "metadata": {
        "id": "GMkxFB3GATRY"
      },
      "outputs": [],
      "source": [
        "pd.get_dummies(liver_df['Gender'], prefix = 'Gender').head()"
      ]
    },
    {
      "cell_type": "code",
      "execution_count": null,
      "metadata": {
        "id": "mJ-4AN3GATRZ"
      },
      "outputs": [],
      "source": [
        "liver_df = pd.concat([liver_df,pd.get_dummies(liver_df['Gender'], prefix = 'Gender')], axis=1)"
      ]
    },
    {
      "cell_type": "code",
      "execution_count": null,
      "metadata": {
        "id": "Q5z0zDDDATRa"
      },
      "outputs": [],
      "source": [
        "liver_df.head()"
      ]
    },
    {
      "cell_type": "code",
      "execution_count": null,
      "metadata": {
        "scrolled": true,
        "id": "lrFzg7efATRb"
      },
      "outputs": [],
      "source": [
        "liver_df.describe()"
      ]
    },
    {
      "cell_type": "markdown",
      "metadata": {
        "id": "2mLs2cmuATRc"
      },
      "source": [
        "- Finding the null values in 'Albumin_and_Globulin_Ratio'"
      ]
    },
    {
      "cell_type": "code",
      "execution_count": null,
      "metadata": {
        "id": "mmkYgSPBATRd"
      },
      "outputs": [],
      "source": [
        "liver_df[liver_df['Albumin_and_Globulin_Ratio'].isnull()]"
      ]
    },
    {
      "cell_type": "code",
      "execution_count": null,
      "metadata": {
        "id": "BRokMi4sATRe"
      },
      "outputs": [],
      "source": [
        "liver_df[\"Albumin_and_Globulin_Ratio\"] = liver_df.Albumin_and_Globulin_Ratio.fillna(liver_df['Albumin_and_Globulin_Ratio'].mean())"
      ]
    },
    {
      "cell_type": "code",
      "execution_count": null,
      "metadata": {
        "id": "k_AmdSsCATRe"
      },
      "outputs": [],
      "source": [
        "#liver_df[liver_df['Albumin_and_Globulin_Ratio'] == 0.9470639032815201]"
      ]
    },
    {
      "cell_type": "code",
      "execution_count": null,
      "metadata": {
        "id": "mVmOzN_-ATRf"
      },
      "outputs": [],
      "source": [
        "# The input variables/features are all the inputs except Dataset.\n",
        "# The prediction or label is 'Dataset' that determines whether the patient has liver disease or not. \n",
        "# Dropping Gender and Dataset\n",
        "\n",
        "X = liver_df.drop(['Gender','Dataset'], axis=1)\n",
        "X.head(3)"
      ]
    },
    {
      "cell_type": "code",
      "execution_count": null,
      "metadata": {
        "id": "7Xpn-gIrATRg"
      },
      "outputs": [],
      "source": [
        "y = liver_df['Dataset'] \n",
        "\n",
        "# 1 for liver disease; 2 for no liver disease"
      ]
    },
    {
      "cell_type": "code",
      "execution_count": null,
      "metadata": {
        "id": "TXM_YHatATRg"
      },
      "outputs": [],
      "source": [
        "# Correlation\n",
        "\n",
        "liver_corr = X.corr()\n",
        "liver_corr"
      ]
    },
    {
      "cell_type": "code",
      "execution_count": null,
      "metadata": {
        "id": "cI_kiXcJATRh"
      },
      "outputs": [],
      "source": [
        "plt.figure(figsize=(30, 30))\n",
        "sns.heatmap(liver_corr, cbar = True,  square = True, annot=True, fmt= '.2f',annot_kws={'size': 15},cmap= 'coolwarm')\n",
        "plt.title('Correlation between features');"
      ]
    },
    {
      "cell_type": "markdown",
      "metadata": {
        "id": "zE8NskmSATRi"
      },
      "source": [
        "The above correlation also indicates the following correlation\n",
        "- Total_Protiens & Albumin\n",
        "- Alamine_Aminotransferase & Aspartate_Aminotransferase\n",
        "- Direct_Bilirubin & Total_Bilirubin\n",
        "- There is some correlation between Albumin_and_Globulin_Ratio and Albumin. But its not as high as Total_Protiens & Albumin"
      ]
    },
    {
      "cell_type": "markdown",
      "metadata": {
        "id": "PSzJD3xRATRi"
      },
      "source": [
        "# Machine Learning"
      ]
    },
    {
      "cell_type": "code",
      "execution_count": null,
      "metadata": {
        "id": "4QSZep6mATRk"
      },
      "outputs": [],
      "source": [
        "# Importing modules\n",
        "from sklearn.metrics import accuracy_score\n",
        "from sklearn.model_selection import train_test_split\n",
        "from sklearn.metrics import classification_report,confusion_matrix\n",
        "from sklearn import linear_model\n",
        "from sklearn.linear_model import LogisticRegression\n",
        "from sklearn.svm import SVC, LinearSVC\n",
        "from sklearn.ensemble import RandomForestClassifier, AdaBoostClassifier, BaggingClassifier\n",
        "from sklearn.neighbors import KNeighborsClassifier\n",
        "from sklearn.naive_bayes import GaussianNB\n",
        "from sklearn.linear_model import Perceptron\n",
        "from sklearn.linear_model import SGDClassifier\n",
        "from sklearn.tree import DecisionTreeClassifier\n",
        "from sklearn.neural_network import MLPClassifier"
      ]
    },
    {
      "cell_type": "code",
      "execution_count": null,
      "metadata": {
        "id": "gqRPy2oWATRk"
      },
      "outputs": [],
      "source": [
        "X_train, X_test, y_train, y_test = train_test_split(X, y, test_size=0.30, random_state=101)\n",
        "print (X_train.shape)\n",
        "print (y_train.shape)\n",
        "print (X_test.shape)\n",
        "print (y_test.shape)"
      ]
    },
    {
      "cell_type": "markdown",
      "metadata": {
        "id": "YwlZjOJkATRl"
      },
      "source": [
        "# Logistic Regression"
      ]
    },
    {
      "cell_type": "code",
      "execution_count": null,
      "metadata": {
        "id": "tjFkqUyLATRm"
      },
      "outputs": [],
      "source": [
        "# Create logistic regression object\n",
        "\n",
        "logreg = LogisticRegression()"
      ]
    },
    {
      "cell_type": "code",
      "execution_count": null,
      "metadata": {
        "id": "1EE7E0OtATRm"
      },
      "outputs": [],
      "source": [
        "# Train the model using the training sets and check score\n",
        "\n",
        "logreg.fit(X_train, y_train)"
      ]
    },
    {
      "cell_type": "code",
      "execution_count": null,
      "metadata": {
        "id": "8sd-Hi5yATRn"
      },
      "outputs": [],
      "source": [
        "#Predict Output\n",
        "\n",
        "log_predicted= logreg.predict(X_test)\n",
        "logreg_score = round(logreg.score(X_train, y_train) * 100, 2)\n",
        "logreg_score_test = round(logreg.score(X_test, y_test) * 100, 2)"
      ]
    },
    {
      "cell_type": "code",
      "execution_count": null,
      "metadata": {
        "id": "TlpNHPcsATRo"
      },
      "outputs": [],
      "source": [
        "#Equation coefficient and Intercept\n",
        "\n",
        "print('Logistic Regression Training Score: \\n', logreg_score)\n",
        "print('Logistic Regression Test Score: \\n', logreg_score_test)\n",
        "print('Coefficient: \\n', logreg.coef_)\n",
        "print('Intercept: \\n', logreg.intercept_)\n",
        "print('Accuracy: \\n', accuracy_score(y_test,log_predicted))\n",
        "print('Confusion Matrix: \\n', confusion_matrix(y_test,log_predicted))\n",
        "print('Classification Report: \\n', classification_report(y_test,log_predicted))"
      ]
    },
    {
      "cell_type": "code",
      "execution_count": null,
      "metadata": {
        "id": "EPv1k8kMATRq"
      },
      "outputs": [],
      "source": [
        "sns.heatmap(confusion_matrix(y_test,log_predicted),annot=True,fmt=\"d\")"
      ]
    },
    {
      "cell_type": "code",
      "execution_count": null,
      "metadata": {
        "id": "BwgreR-CATRr"
      },
      "outputs": [],
      "source": [
        "coeff_df = pd.DataFrame(X.columns)\n",
        "coeff_df.columns = ['Feature']\n",
        "coeff_df[\"Correlation\"] = pd.Series(logreg.coef_[0])\n",
        "pd.Series(logreg.coef_[0])\n",
        "\n",
        "coeff_df.sort_values(by='Correlation', ascending=False)"
      ]
    },
    {
      "cell_type": "markdown",
      "metadata": {
        "id": "HtQfVdNzATRu"
      },
      "source": [
        "# Gaussian Naive Bayes"
      ]
    },
    {
      "cell_type": "code",
      "execution_count": null,
      "metadata": {
        "id": "ys_6ITZDATRu"
      },
      "outputs": [],
      "source": [
        "# Create gaussian object\n",
        "\n",
        "gaussian = GaussianNB()\n",
        "gaussian.fit(X_train, y_train)"
      ]
    },
    {
      "cell_type": "code",
      "execution_count": null,
      "metadata": {
        "id": "6YDxlQCrATRw"
      },
      "outputs": [],
      "source": [
        "#Predict Output\n",
        "gauss_predicted = gaussian.predict(X_test)"
      ]
    },
    {
      "cell_type": "code",
      "execution_count": null,
      "metadata": {
        "id": "brQlZW2DATRw"
      },
      "outputs": [],
      "source": [
        "gauss_score = round(gaussian.score(X_train, y_train) * 100, 2)\n",
        "gauss_score_test = round(gaussian.score(X_test, y_test) * 100, 2)\n",
        "print('Gaussian Score: \\n', gauss_score)\n",
        "print('Gaussian Test Score: \\n', gauss_score_test)\n",
        "print('Accuracy: \\n', accuracy_score(y_test, gauss_predicted))\n",
        "print(confusion_matrix(y_test,gauss_predicted))\n",
        "print(classification_report(y_test,gauss_predicted))"
      ]
    },
    {
      "cell_type": "code",
      "execution_count": null,
      "metadata": {
        "id": "7DS0KBGSATRx"
      },
      "outputs": [],
      "source": [
        "sns.heatmap(confusion_matrix(y_test,gauss_predicted),annot=True,fmt=\"d\")"
      ]
    },
    {
      "cell_type": "markdown",
      "metadata": {
        "id": "rXaBe4jSATRy"
      },
      "source": [
        "# Random Forest"
      ]
    },
    {
      "cell_type": "code",
      "execution_count": null,
      "metadata": {
        "id": "-HkjZFRTATRz"
      },
      "outputs": [],
      "source": [
        "# create random_forest object\n",
        "\n",
        "random_forest = RandomForestClassifier(max_depth=3,n_estimators=56,criterion='entropy')\n",
        "random_forest.fit(X_train, y_train)"
      ]
    },
    {
      "cell_type": "code",
      "execution_count": null,
      "metadata": {
        "id": "vIuFgzYKATR0"
      },
      "outputs": [],
      "source": [
        "#Predict Output\n",
        "\n",
        "rf_predicted = random_forest.predict(X_test)"
      ]
    },
    {
      "cell_type": "code",
      "execution_count": null,
      "metadata": {
        "id": "uBcdDzIbATR0"
      },
      "outputs": [],
      "source": [
        "random_forest_score = round(random_forest.score(X_train, y_train) * 100, 2)\n",
        "random_forest_score_test = round(random_forest.score(X_test, y_test) * 100, 2)\n",
        "print('Random Forest Score: \\n', random_forest_score)\n",
        "print('Random Forest Test Score: \\n', random_forest_score_test)\n",
        "print('Accuracy: \\n', accuracy_score(y_test,rf_predicted))\n",
        "print(confusion_matrix(y_test,rf_predicted))\n",
        "print(classification_report(y_test,rf_predicted))"
      ]
    },
    {
      "cell_type": "code",
      "execution_count": null,
      "metadata": {
        "id": "3sNnUncjATR1"
      },
      "outputs": [],
      "source": [
        "finX = liver_df[['Total_Protiens','Albumin', 'Gender_Male']]\n",
        "finX.head(4)"
      ]
    },
    {
      "cell_type": "markdown",
      "metadata": {
        "id": "j-ynlsWEATR2"
      },
      "source": [
        "# Logistic Regression"
      ]
    },
    {
      "cell_type": "code",
      "execution_count": null,
      "metadata": {
        "id": "nvXTTN60ATR3"
      },
      "outputs": [],
      "source": [
        "X_train, X_test, y_train, y_test = train_test_split(finX, y, test_size=0.30, random_state=101)"
      ]
    },
    {
      "cell_type": "code",
      "execution_count": null,
      "metadata": {
        "id": "fO7vZ-iPATR3"
      },
      "outputs": [],
      "source": [
        "# Create logistic regression object\n",
        "\n",
        "logreg = LogisticRegression()"
      ]
    },
    {
      "cell_type": "code",
      "execution_count": null,
      "metadata": {
        "id": "fvI3doB_ATR4"
      },
      "outputs": [],
      "source": [
        "# Train the model using the training sets and check score\n",
        "\n",
        "logreg.fit(X_train, y_train)"
      ]
    },
    {
      "cell_type": "code",
      "execution_count": null,
      "metadata": {
        "id": "a4WJKFCdATR4"
      },
      "outputs": [],
      "source": [
        "# Predict Output\n",
        "\n",
        "log_predicted= logreg.predict(X_test)"
      ]
    },
    {
      "cell_type": "code",
      "execution_count": null,
      "metadata": {
        "id": "M5RKZnmpATR5"
      },
      "outputs": [],
      "source": [
        "logreg_score = round(logreg.score(X_train, y_train) * 100, 2)\n",
        "logreg_score_test = round(logreg.score(X_test, y_test) * 100, 2)\n",
        "\n",
        "# Equation coefficient and Intercept\n",
        "\n",
        "print('Logistic Regression Training Score: \\n', logreg_score)\n",
        "print('Logistic Regression Test Score: \\n', logreg_score_test)\n",
        "print('Coefficient: \\n', logreg.coef_)\n",
        "print('Intercept: \\n', logreg.intercept_)\n",
        "print('Accuracy: \\n', accuracy_score(y_test,log_predicted))\n",
        "print('Confusion Matrix: \\n', confusion_matrix(y_test,log_predicted))\n",
        "print('Classification Report: \\n', classification_report(y_test,log_predicted))"
      ]
    },
    {
      "cell_type": "code",
      "execution_count": null,
      "metadata": {
        "id": "p8cA9iBXATR6"
      },
      "outputs": [],
      "source": [
        "sns.heatmap(confusion_matrix(y_test,log_predicted),annot=True,fmt=\"d\")"
      ]
    },
    {
      "cell_type": "markdown",
      "metadata": {
        "id": "amf8TRrJATR7"
      },
      "source": [
        "# Decision Tree Classifier"
      ]
    },
    {
      "cell_type": "code",
      "execution_count": null,
      "metadata": {
        "id": "RkjUad5pATR7"
      },
      "outputs": [],
      "source": [
        "# Create decision tree object\n",
        "\n",
        "dt=DecisionTreeClassifier()"
      ]
    },
    {
      "cell_type": "code",
      "execution_count": null,
      "metadata": {
        "id": "09u1V2J_ATR8"
      },
      "outputs": [],
      "source": [
        "# Train the model using the training sets and check score\n",
        "\n",
        "dt.fit(X_train,y_train)"
      ]
    },
    {
      "cell_type": "code",
      "execution_count": null,
      "metadata": {
        "id": "_ABLQv6sATR9"
      },
      "outputs": [],
      "source": [
        "# Predict Output\n",
        "\n",
        "y_pred=dt.predict(X_test)\n",
        "\n",
        "dt_score = round(dt.score(X_train, y_train) * 100, 2)\n",
        "dt_test = round(dt.score(X_test, y_test) * 100, 2)"
      ]
    },
    {
      "cell_type": "code",
      "execution_count": null,
      "metadata": {
        "id": "QPqkndL-ATR-"
      },
      "outputs": [],
      "source": [
        "from sklearn.metrics import accuracy_score\n",
        "accuracy_score(y_test,y_pred)"
      ]
    },
    {
      "cell_type": "code",
      "execution_count": null,
      "metadata": {
        "id": "KJ9wv4k_ATR_"
      },
      "outputs": [],
      "source": [
        "from sklearn.metrics import confusion_matrix\n",
        "confusion_matrix(y_test,y_pred)"
      ]
    },
    {
      "cell_type": "markdown",
      "metadata": {
        "id": "_BEIxsMwATSA"
      },
      "source": [
        "# Model evaluation"
      ]
    },
    {
      "cell_type": "code",
      "execution_count": null,
      "metadata": {
        "id": "kL-cbgNGATSA"
      },
      "outputs": [],
      "source": [
        "# We can now rank our evaluation of all the models to choose the best one for our problem.\n",
        "\n",
        "models = pd.DataFrame({\n",
        "    'Model': [ 'Logistic Regression', 'Gaussian Naive Bayes','Random Forest','Decision Tree'],\n",
        "    'Score': [ logreg_score, gauss_score, random_forest_score,dt_score],\n",
        "    'Test Score': [ logreg_score_test, gauss_score_test, random_forest_score_test,dt_test]})\n",
        "models.sort_values(by='Test Score', ascending=False)"
      ]
    },
    {
      "cell_type": "code",
      "execution_count": null,
      "metadata": {
        "id": "7MGRuFOZATSB"
      },
      "outputs": [],
      "source": [
        "from watson_machine_learning_client import WatsonMachineLearningAPIClient\n",
        "\n",
        "wml_credentials = {\n",
        "   \"instance_id\": \"1c8b2a30-08fb-4355-a71b-ea152c85f5b7\",\n",
        "  \"password\": \"c88f97ec-f410-425e-bd14-114b067ffec2\",\n",
        "  \"url\": \"https://eu-gb.ml.cloud.ibm.com\",\n",
        "  \"username\": \"4478a4bf-e7d3-4311-8e99-b93fc1ace7a0\"\n",
        "}\n",
        "\n",
        "client = WatsonMachineLearningAPIClient(wml_credentials)\n",
        "model_props = {client.repository.ModelMetaNames.AUTHOR_NAME: \"Abhishek\", \n",
        "               client.repository.ModelMetaNames.AUTHOR_EMAIL: \"abhishekrockstar545@gmail.com\", \n",
        "               client.repository.ModelMetaNames.NAME: \"LiverPatient Model\"\n",
        "              }\n",
        "\t\n",
        "\n",
        "model=client.repository.store_model(logreg, meta_props=model_props)\n",
        "\n",
        "published_model_uid = client.repository.get_model_uid(model)\n",
        "published_model_uid\n",
        "\n",
        "deployment = client.deployments.create(published_model_uid, name=\"Patient\")\n",
        "\n",
        "scoring_endpoint = client.deployments.get_scoring_url(deployment)\n",
        "scoring_endpoint"
      ]
    },
    {
      "cell_type": "code",
      "execution_count": null,
      "metadata": {
        "id": "0ta4o33zATSD"
      },
      "outputs": [],
      "source": [
        "client.deployments.list()"
      ]
    },
    {
      "cell_type": "code",
      "execution_count": null,
      "metadata": {
        "id": "Ovc4QXa4ATSE"
      },
      "outputs": [],
      "source": [
        "client.deployments.delete(\"e3ab3d2f-a3c1-4193-8f84-b637ada2b92a\")"
      ]
    }
  ],
  "metadata": {
    "kernelspec": {
      "display_name": "Python 3.5",
      "language": "python",
      "name": "python3"
    },
    "language_info": {
      "codemirror_mode": {
        "name": "ipython",
        "version": 3
      },
      "file_extension": ".py",
      "mimetype": "text/x-python",
      "name": "python",
      "nbconvert_exporter": "python",
      "pygments_lexer": "ipython3",
      "version": "3.5.5"
    },
    "colab": {
      "provenance": []
    }
  },
  "nbformat": 4,
  "nbformat_minor": 0
}